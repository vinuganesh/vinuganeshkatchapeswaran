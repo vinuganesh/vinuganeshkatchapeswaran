{
 "cells": [
  {
   "cell_type": "markdown",
   "metadata": {},
   "source": [
    "## Lab Brief - Statistical Learning with Python"
   ]
  },
  {
   "cell_type": "markdown",
   "metadata": {},
   "source": [
    "### Part-1"
   ]
  },
  {
   "cell_type": "markdown",
   "metadata": {},
   "source": [
    "## Measures of Data"
   ]
  },
  {
   "cell_type": "markdown",
   "metadata": {},
   "source": [
    "Descriptive Statistcs are measures that summarize important features of data. Producing these descriptive statistics is a common first step to take after cleaning and preparing a dataset for further analysis. Examples are like calculating Mean or Median. In this lab, we will be looking into some of these functions and explore several new ones."
   ]
  },
  {
   "cell_type": "markdown",
   "metadata": {},
   "source": [
    "#### Measures of Central Tendency"
   ]
  },
  {
   "cell_type": "markdown",
   "metadata": {},
   "source": [
    "Whenever you measure things of the same kind, a fairly large number of such measurements will tend to cluster around the middle value. Such a value is called a measure of \"Central Tendency\". The other terms that are used synonymously are \"Measures of Location\", or \"Statistical Averages\". "
   ]
  },
  {
   "cell_type": "code",
   "execution_count": 1,
   "metadata": {},
   "outputs": [],
   "source": [
    "import numpy as np\n",
    "import pandas as pd\n",
    "import matplotlib.pyplot as plt\n",
    "\n",
    "mtcars = pd.read_csv('mtcars.csv')"
   ]
  },
  {
   "cell_type": "markdown",
   "metadata": {},
   "source": [
    "##### Using the mtcars dataset.\n",
    "\n",
    "For the below set of questions, we will be using the cars data from [Motor Trend Car Road Tests](http://stat.ethz.ch/R-manual/R-devel/library/datasets/html/mtcars.html)\n",
    "\n",
    "The data was extracted from the 1974 Motor Trend US magazine, and comprises fuel consumption and 10 aspects of automobile design and performance for 32 automobiles (1973–74 models). \n",
    "\n",
    "\n",
    "Details :\n",
    "    \n",
    "A data frame with 32 observations on 11 (numeric) variables.\n",
    "\n",
    "[, 1] \tmpg \tMiles/(US) gallon\n",
    "\n",
    "[, 2] \tcyl \tNumber of cylinders\n",
    "\n",
    "[, 3] \tdisp \tDisplacement (cu.in.)\n",
    "\n",
    "[, 4] \thp \tGross horsepower\n",
    "\n",
    "[, 5] \tdrat \tRear axle ratio\n",
    "\n",
    "[, 6] \twt \tWeight (1000 lbs)\n",
    "\n",
    "[, 7] \tqsec \t1/4 mile time\n",
    "\n",
    "[, 8] \tvs \tEngine (0 = V-shaped, 1 = straight)\n",
    "\n",
    "[, 9] \tam \tTransmission (0 = automatic, 1 = manual)\n",
    "\n",
    "[,10] \tgear \tNumber of forward gears\n",
    "\n",
    "[,11] \tcarb \tNumber of carburetors "
   ]
  },
  {
   "cell_type": "markdown",
   "metadata": {},
   "source": [
    "#### Explore the data - Setting the index"
   ]
  },
  {
   "cell_type": "code",
   "execution_count": 2,
   "metadata": {},
   "outputs": [
    {
     "data": {
      "text/html": [
       "<div>\n",
       "<style scoped>\n",
       "    .dataframe tbody tr th:only-of-type {\n",
       "        vertical-align: middle;\n",
       "    }\n",
       "\n",
       "    .dataframe tbody tr th {\n",
       "        vertical-align: top;\n",
       "    }\n",
       "\n",
       "    .dataframe thead th {\n",
       "        text-align: right;\n",
       "    }\n",
       "</style>\n",
       "<table border=\"1\" class=\"dataframe\">\n",
       "  <thead>\n",
       "    <tr style=\"text-align: right;\">\n",
       "      <th></th>\n",
       "      <th>name</th>\n",
       "      <th>mpg</th>\n",
       "      <th>cyl</th>\n",
       "      <th>disp</th>\n",
       "      <th>hp</th>\n",
       "      <th>drat</th>\n",
       "      <th>wt</th>\n",
       "      <th>qsec</th>\n",
       "      <th>vs</th>\n",
       "      <th>am</th>\n",
       "      <th>gear</th>\n",
       "      <th>carb</th>\n",
       "    </tr>\n",
       "    <tr>\n",
       "      <th>name</th>\n",
       "      <th></th>\n",
       "      <th></th>\n",
       "      <th></th>\n",
       "      <th></th>\n",
       "      <th></th>\n",
       "      <th></th>\n",
       "      <th></th>\n",
       "      <th></th>\n",
       "      <th></th>\n",
       "      <th></th>\n",
       "      <th></th>\n",
       "      <th></th>\n",
       "    </tr>\n",
       "  </thead>\n",
       "  <tbody>\n",
       "    <tr>\n",
       "      <th>Mazda RX4</th>\n",
       "      <td>Mazda RX4</td>\n",
       "      <td>21.0</td>\n",
       "      <td>6</td>\n",
       "      <td>160.0</td>\n",
       "      <td>110</td>\n",
       "      <td>3.90</td>\n",
       "      <td>2.620</td>\n",
       "      <td>16.46</td>\n",
       "      <td>0</td>\n",
       "      <td>1</td>\n",
       "      <td>4</td>\n",
       "      <td>4</td>\n",
       "    </tr>\n",
       "    <tr>\n",
       "      <th>Mazda RX4 Wag</th>\n",
       "      <td>Mazda RX4 Wag</td>\n",
       "      <td>21.0</td>\n",
       "      <td>6</td>\n",
       "      <td>160.0</td>\n",
       "      <td>110</td>\n",
       "      <td>3.90</td>\n",
       "      <td>2.875</td>\n",
       "      <td>17.02</td>\n",
       "      <td>0</td>\n",
       "      <td>1</td>\n",
       "      <td>4</td>\n",
       "      <td>4</td>\n",
       "    </tr>\n",
       "    <tr>\n",
       "      <th>Datsun 710</th>\n",
       "      <td>Datsun 710</td>\n",
       "      <td>22.8</td>\n",
       "      <td>4</td>\n",
       "      <td>108.0</td>\n",
       "      <td>93</td>\n",
       "      <td>3.85</td>\n",
       "      <td>2.320</td>\n",
       "      <td>18.61</td>\n",
       "      <td>1</td>\n",
       "      <td>1</td>\n",
       "      <td>4</td>\n",
       "      <td>1</td>\n",
       "    </tr>\n",
       "    <tr>\n",
       "      <th>Hornet 4 Drive</th>\n",
       "      <td>Hornet 4 Drive</td>\n",
       "      <td>21.4</td>\n",
       "      <td>6</td>\n",
       "      <td>258.0</td>\n",
       "      <td>110</td>\n",
       "      <td>3.08</td>\n",
       "      <td>3.215</td>\n",
       "      <td>19.44</td>\n",
       "      <td>1</td>\n",
       "      <td>0</td>\n",
       "      <td>3</td>\n",
       "      <td>1</td>\n",
       "    </tr>\n",
       "    <tr>\n",
       "      <th>Hornet Sportabout</th>\n",
       "      <td>Hornet Sportabout</td>\n",
       "      <td>18.7</td>\n",
       "      <td>8</td>\n",
       "      <td>360.0</td>\n",
       "      <td>175</td>\n",
       "      <td>3.15</td>\n",
       "      <td>3.440</td>\n",
       "      <td>17.02</td>\n",
       "      <td>0</td>\n",
       "      <td>0</td>\n",
       "      <td>3</td>\n",
       "      <td>2</td>\n",
       "    </tr>\n",
       "  </tbody>\n",
       "</table>\n",
       "</div>"
      ],
      "text/plain": [
       "                                name   mpg  cyl   disp   hp  drat     wt  \\\n",
       "name                                                                       \n",
       "Mazda RX4                  Mazda RX4  21.0    6  160.0  110  3.90  2.620   \n",
       "Mazda RX4 Wag          Mazda RX4 Wag  21.0    6  160.0  110  3.90  2.875   \n",
       "Datsun 710                Datsun 710  22.8    4  108.0   93  3.85  2.320   \n",
       "Hornet 4 Drive        Hornet 4 Drive  21.4    6  258.0  110  3.08  3.215   \n",
       "Hornet Sportabout  Hornet Sportabout  18.7    8  360.0  175  3.15  3.440   \n",
       "\n",
       "                    qsec  vs  am  gear  carb  \n",
       "name                                          \n",
       "Mazda RX4          16.46   0   1     4     4  \n",
       "Mazda RX4 Wag      17.02   0   1     4     4  \n",
       "Datsun 710         18.61   1   1     4     1  \n",
       "Hornet 4 Drive     19.44   1   0     3     1  \n",
       "Hornet Sportabout  17.02   0   0     3     2  "
      ]
     },
     "execution_count": 2,
     "metadata": {},
     "output_type": "execute_result"
    }
   ],
   "source": [
    "mtcars.index = mtcars[\"name\"]\n",
    "mtcars.head()\n",
    "# mtcars.mean() #By default this will give the mean of each column"
   ]
  },
  {
   "cell_type": "markdown",
   "metadata": {},
   "source": [
    "### Question 1\n",
    "\n",
    "What is the first car name given in mtcars?\n",
    "\n",
    "** Make use of index which has been set previously **\n",
    "\n",
    "**Hint**: Use .loc function\n"
   ]
  },
  {
   "cell_type": "code",
   "execution_count": 6,
   "metadata": {
    "scrolled": true
   },
   "outputs": [
    {
     "name": "stderr",
     "output_type": "stream",
     "text": [
      "/anaconda3/lib/python3.6/site-packages/ipykernel_launcher.py:1: DeprecationWarning: \n",
      ".ix is deprecated. Please use\n",
      ".loc for label based indexing or\n",
      ".iloc for positional indexing\n",
      "\n",
      "See the documentation here:\n",
      "http://pandas.pydata.org/pandas-docs/stable/indexing.html#ix-indexer-is-deprecated\n",
      "  \"\"\"Entry point for launching an IPython kernel.\n"
     ]
    },
    {
     "data": {
      "text/html": [
       "<div>\n",
       "<style scoped>\n",
       "    .dataframe tbody tr th:only-of-type {\n",
       "        vertical-align: middle;\n",
       "    }\n",
       "\n",
       "    .dataframe tbody tr th {\n",
       "        vertical-align: top;\n",
       "    }\n",
       "\n",
       "    .dataframe thead th {\n",
       "        text-align: right;\n",
       "    }\n",
       "</style>\n",
       "<table border=\"1\" class=\"dataframe\">\n",
       "  <thead>\n",
       "    <tr style=\"text-align: right;\">\n",
       "      <th></th>\n",
       "      <th>name</th>\n",
       "    </tr>\n",
       "    <tr>\n",
       "      <th>name</th>\n",
       "      <th></th>\n",
       "    </tr>\n",
       "  </thead>\n",
       "  <tbody>\n",
       "    <tr>\n",
       "      <th>Mazda RX4</th>\n",
       "      <td>Mazda RX4</td>\n",
       "    </tr>\n",
       "  </tbody>\n",
       "</table>\n",
       "</div>"
      ],
      "text/plain": [
       "                name\n",
       "name                \n",
       "Mazda RX4  Mazda RX4"
      ]
     },
     "execution_count": 6,
     "metadata": {},
     "output_type": "execute_result"
    }
   ],
   "source": [
    "mtcars.ix[0:1,0:1]"
   ]
  },
  {
   "cell_type": "markdown",
   "metadata": {},
   "source": [
    "### Question 2\n",
    "What is the highest difference between the hp and cyl?\n",
    "\n",
    "**Hint:** You can use **max()** function to find the difference"
   ]
  },
  {
   "cell_type": "code",
   "execution_count": 7,
   "metadata": {},
   "outputs": [
    {
     "name": "stderr",
     "output_type": "stream",
     "text": [
      "/anaconda3/lib/python3.6/site-packages/ipykernel_launcher.py:1: DeprecationWarning: \n",
      ".ix is deprecated. Please use\n",
      ".loc for label based indexing or\n",
      ".iloc for positional indexing\n",
      "\n",
      "See the documentation here:\n",
      "http://pandas.pydata.org/pandas-docs/stable/indexing.html#ix-indexer-is-deprecated\n",
      "  \"\"\"Entry point for launching an IPython kernel.\n"
     ]
    },
    {
     "data": {
      "text/html": [
       "<div>\n",
       "<style scoped>\n",
       "    .dataframe tbody tr th:only-of-type {\n",
       "        vertical-align: middle;\n",
       "    }\n",
       "\n",
       "    .dataframe tbody tr th {\n",
       "        vertical-align: top;\n",
       "    }\n",
       "\n",
       "    .dataframe thead th {\n",
       "        text-align: right;\n",
       "    }\n",
       "</style>\n",
       "<table border=\"1\" class=\"dataframe\">\n",
       "  <thead>\n",
       "    <tr style=\"text-align: right;\">\n",
       "      <th></th>\n",
       "      <th>name</th>\n",
       "      <th>mpg</th>\n",
       "      <th>cyl</th>\n",
       "      <th>disp</th>\n",
       "      <th>hp</th>\n",
       "      <th>drat</th>\n",
       "      <th>wt</th>\n",
       "      <th>qsec</th>\n",
       "      <th>vs</th>\n",
       "      <th>am</th>\n",
       "      <th>gear</th>\n",
       "      <th>carb</th>\n",
       "    </tr>\n",
       "    <tr>\n",
       "      <th>name</th>\n",
       "      <th></th>\n",
       "      <th></th>\n",
       "      <th></th>\n",
       "      <th></th>\n",
       "      <th></th>\n",
       "      <th></th>\n",
       "      <th></th>\n",
       "      <th></th>\n",
       "      <th></th>\n",
       "      <th></th>\n",
       "      <th></th>\n",
       "      <th></th>\n",
       "    </tr>\n",
       "  </thead>\n",
       "  <tbody>\n",
       "    <tr>\n",
       "      <th>Mazda RX4</th>\n",
       "      <td>Mazda RX4</td>\n",
       "      <td>21.0</td>\n",
       "      <td>6</td>\n",
       "      <td>160.0</td>\n",
       "      <td>110</td>\n",
       "      <td>3.90</td>\n",
       "      <td>2.620</td>\n",
       "      <td>16.46</td>\n",
       "      <td>0</td>\n",
       "      <td>1</td>\n",
       "      <td>4</td>\n",
       "      <td>4</td>\n",
       "    </tr>\n",
       "    <tr>\n",
       "      <th>Mazda RX4 Wag</th>\n",
       "      <td>Mazda RX4 Wag</td>\n",
       "      <td>21.0</td>\n",
       "      <td>6</td>\n",
       "      <td>160.0</td>\n",
       "      <td>110</td>\n",
       "      <td>3.90</td>\n",
       "      <td>2.875</td>\n",
       "      <td>17.02</td>\n",
       "      <td>0</td>\n",
       "      <td>1</td>\n",
       "      <td>4</td>\n",
       "      <td>4</td>\n",
       "    </tr>\n",
       "    <tr>\n",
       "      <th>Datsun 710</th>\n",
       "      <td>Datsun 710</td>\n",
       "      <td>22.8</td>\n",
       "      <td>4</td>\n",
       "      <td>108.0</td>\n",
       "      <td>93</td>\n",
       "      <td>3.85</td>\n",
       "      <td>2.320</td>\n",
       "      <td>18.61</td>\n",
       "      <td>1</td>\n",
       "      <td>1</td>\n",
       "      <td>4</td>\n",
       "      <td>1</td>\n",
       "    </tr>\n",
       "    <tr>\n",
       "      <th>Hornet 4 Drive</th>\n",
       "      <td>Hornet 4 Drive</td>\n",
       "      <td>21.4</td>\n",
       "      <td>6</td>\n",
       "      <td>258.0</td>\n",
       "      <td>110</td>\n",
       "      <td>3.08</td>\n",
       "      <td>3.215</td>\n",
       "      <td>19.44</td>\n",
       "      <td>1</td>\n",
       "      <td>0</td>\n",
       "      <td>3</td>\n",
       "      <td>1</td>\n",
       "    </tr>\n",
       "    <tr>\n",
       "      <th>Hornet Sportabout</th>\n",
       "      <td>Hornet Sportabout</td>\n",
       "      <td>18.7</td>\n",
       "      <td>8</td>\n",
       "      <td>360.0</td>\n",
       "      <td>175</td>\n",
       "      <td>3.15</td>\n",
       "      <td>3.440</td>\n",
       "      <td>17.02</td>\n",
       "      <td>0</td>\n",
       "      <td>0</td>\n",
       "      <td>3</td>\n",
       "      <td>2</td>\n",
       "    </tr>\n",
       "    <tr>\n",
       "      <th>Valiant</th>\n",
       "      <td>Valiant</td>\n",
       "      <td>18.1</td>\n",
       "      <td>6</td>\n",
       "      <td>225.0</td>\n",
       "      <td>105</td>\n",
       "      <td>2.76</td>\n",
       "      <td>3.460</td>\n",
       "      <td>20.22</td>\n",
       "      <td>1</td>\n",
       "      <td>0</td>\n",
       "      <td>3</td>\n",
       "      <td>1</td>\n",
       "    </tr>\n",
       "    <tr>\n",
       "      <th>Duster 360</th>\n",
       "      <td>Duster 360</td>\n",
       "      <td>14.3</td>\n",
       "      <td>8</td>\n",
       "      <td>360.0</td>\n",
       "      <td>245</td>\n",
       "      <td>3.21</td>\n",
       "      <td>3.570</td>\n",
       "      <td>15.84</td>\n",
       "      <td>0</td>\n",
       "      <td>0</td>\n",
       "      <td>3</td>\n",
       "      <td>4</td>\n",
       "    </tr>\n",
       "    <tr>\n",
       "      <th>Merc 240D</th>\n",
       "      <td>Merc 240D</td>\n",
       "      <td>24.4</td>\n",
       "      <td>4</td>\n",
       "      <td>146.7</td>\n",
       "      <td>62</td>\n",
       "      <td>3.69</td>\n",
       "      <td>3.190</td>\n",
       "      <td>20.00</td>\n",
       "      <td>1</td>\n",
       "      <td>0</td>\n",
       "      <td>4</td>\n",
       "      <td>2</td>\n",
       "    </tr>\n",
       "    <tr>\n",
       "      <th>Merc 230</th>\n",
       "      <td>Merc 230</td>\n",
       "      <td>22.8</td>\n",
       "      <td>4</td>\n",
       "      <td>140.8</td>\n",
       "      <td>95</td>\n",
       "      <td>3.92</td>\n",
       "      <td>3.150</td>\n",
       "      <td>22.90</td>\n",
       "      <td>1</td>\n",
       "      <td>0</td>\n",
       "      <td>4</td>\n",
       "      <td>2</td>\n",
       "    </tr>\n",
       "    <tr>\n",
       "      <th>Merc 280</th>\n",
       "      <td>Merc 280</td>\n",
       "      <td>19.2</td>\n",
       "      <td>6</td>\n",
       "      <td>167.6</td>\n",
       "      <td>123</td>\n",
       "      <td>3.92</td>\n",
       "      <td>3.440</td>\n",
       "      <td>18.30</td>\n",
       "      <td>1</td>\n",
       "      <td>0</td>\n",
       "      <td>4</td>\n",
       "      <td>4</td>\n",
       "    </tr>\n",
       "    <tr>\n",
       "      <th>Merc 280C</th>\n",
       "      <td>Merc 280C</td>\n",
       "      <td>17.8</td>\n",
       "      <td>6</td>\n",
       "      <td>167.6</td>\n",
       "      <td>123</td>\n",
       "      <td>3.92</td>\n",
       "      <td>3.440</td>\n",
       "      <td>18.90</td>\n",
       "      <td>1</td>\n",
       "      <td>0</td>\n",
       "      <td>4</td>\n",
       "      <td>4</td>\n",
       "    </tr>\n",
       "    <tr>\n",
       "      <th>Merc 450SE</th>\n",
       "      <td>Merc 450SE</td>\n",
       "      <td>16.4</td>\n",
       "      <td>8</td>\n",
       "      <td>275.8</td>\n",
       "      <td>180</td>\n",
       "      <td>3.07</td>\n",
       "      <td>4.070</td>\n",
       "      <td>17.40</td>\n",
       "      <td>0</td>\n",
       "      <td>0</td>\n",
       "      <td>3</td>\n",
       "      <td>3</td>\n",
       "    </tr>\n",
       "    <tr>\n",
       "      <th>Merc 450SL</th>\n",
       "      <td>Merc 450SL</td>\n",
       "      <td>17.3</td>\n",
       "      <td>8</td>\n",
       "      <td>275.8</td>\n",
       "      <td>180</td>\n",
       "      <td>3.07</td>\n",
       "      <td>3.730</td>\n",
       "      <td>17.60</td>\n",
       "      <td>0</td>\n",
       "      <td>0</td>\n",
       "      <td>3</td>\n",
       "      <td>3</td>\n",
       "    </tr>\n",
       "    <tr>\n",
       "      <th>Merc 450SLC</th>\n",
       "      <td>Merc 450SLC</td>\n",
       "      <td>15.2</td>\n",
       "      <td>8</td>\n",
       "      <td>275.8</td>\n",
       "      <td>180</td>\n",
       "      <td>3.07</td>\n",
       "      <td>3.780</td>\n",
       "      <td>18.00</td>\n",
       "      <td>0</td>\n",
       "      <td>0</td>\n",
       "      <td>3</td>\n",
       "      <td>3</td>\n",
       "    </tr>\n",
       "    <tr>\n",
       "      <th>Cadillac Fleetwood</th>\n",
       "      <td>Cadillac Fleetwood</td>\n",
       "      <td>10.4</td>\n",
       "      <td>8</td>\n",
       "      <td>472.0</td>\n",
       "      <td>205</td>\n",
       "      <td>2.93</td>\n",
       "      <td>5.250</td>\n",
       "      <td>17.98</td>\n",
       "      <td>0</td>\n",
       "      <td>0</td>\n",
       "      <td>3</td>\n",
       "      <td>4</td>\n",
       "    </tr>\n",
       "    <tr>\n",
       "      <th>Lincoln Continental</th>\n",
       "      <td>Lincoln Continental</td>\n",
       "      <td>10.4</td>\n",
       "      <td>8</td>\n",
       "      <td>460.0</td>\n",
       "      <td>215</td>\n",
       "      <td>3.00</td>\n",
       "      <td>5.424</td>\n",
       "      <td>17.82</td>\n",
       "      <td>0</td>\n",
       "      <td>0</td>\n",
       "      <td>3</td>\n",
       "      <td>4</td>\n",
       "    </tr>\n",
       "    <tr>\n",
       "      <th>Chrysler Imperial</th>\n",
       "      <td>Chrysler Imperial</td>\n",
       "      <td>14.7</td>\n",
       "      <td>8</td>\n",
       "      <td>440.0</td>\n",
       "      <td>230</td>\n",
       "      <td>3.23</td>\n",
       "      <td>5.345</td>\n",
       "      <td>17.42</td>\n",
       "      <td>0</td>\n",
       "      <td>0</td>\n",
       "      <td>3</td>\n",
       "      <td>4</td>\n",
       "    </tr>\n",
       "    <tr>\n",
       "      <th>Fiat 128</th>\n",
       "      <td>Fiat 128</td>\n",
       "      <td>32.4</td>\n",
       "      <td>4</td>\n",
       "      <td>78.7</td>\n",
       "      <td>66</td>\n",
       "      <td>4.08</td>\n",
       "      <td>2.200</td>\n",
       "      <td>19.47</td>\n",
       "      <td>1</td>\n",
       "      <td>1</td>\n",
       "      <td>4</td>\n",
       "      <td>1</td>\n",
       "    </tr>\n",
       "    <tr>\n",
       "      <th>Honda Civic</th>\n",
       "      <td>Honda Civic</td>\n",
       "      <td>30.4</td>\n",
       "      <td>4</td>\n",
       "      <td>75.7</td>\n",
       "      <td>52</td>\n",
       "      <td>4.93</td>\n",
       "      <td>1.615</td>\n",
       "      <td>18.52</td>\n",
       "      <td>1</td>\n",
       "      <td>1</td>\n",
       "      <td>4</td>\n",
       "      <td>2</td>\n",
       "    </tr>\n",
       "    <tr>\n",
       "      <th>Toyota Corolla</th>\n",
       "      <td>Toyota Corolla</td>\n",
       "      <td>33.9</td>\n",
       "      <td>4</td>\n",
       "      <td>71.1</td>\n",
       "      <td>65</td>\n",
       "      <td>4.22</td>\n",
       "      <td>1.835</td>\n",
       "      <td>19.90</td>\n",
       "      <td>1</td>\n",
       "      <td>1</td>\n",
       "      <td>4</td>\n",
       "      <td>1</td>\n",
       "    </tr>\n",
       "    <tr>\n",
       "      <th>Toyota Corona</th>\n",
       "      <td>Toyota Corona</td>\n",
       "      <td>21.5</td>\n",
       "      <td>4</td>\n",
       "      <td>120.1</td>\n",
       "      <td>97</td>\n",
       "      <td>3.70</td>\n",
       "      <td>2.465</td>\n",
       "      <td>20.01</td>\n",
       "      <td>1</td>\n",
       "      <td>0</td>\n",
       "      <td>3</td>\n",
       "      <td>1</td>\n",
       "    </tr>\n",
       "    <tr>\n",
       "      <th>Dodge Challenger</th>\n",
       "      <td>Dodge Challenger</td>\n",
       "      <td>15.5</td>\n",
       "      <td>8</td>\n",
       "      <td>318.0</td>\n",
       "      <td>150</td>\n",
       "      <td>2.76</td>\n",
       "      <td>3.520</td>\n",
       "      <td>16.87</td>\n",
       "      <td>0</td>\n",
       "      <td>0</td>\n",
       "      <td>3</td>\n",
       "      <td>2</td>\n",
       "    </tr>\n",
       "    <tr>\n",
       "      <th>AMC Javelin</th>\n",
       "      <td>AMC Javelin</td>\n",
       "      <td>15.2</td>\n",
       "      <td>8</td>\n",
       "      <td>304.0</td>\n",
       "      <td>150</td>\n",
       "      <td>3.15</td>\n",
       "      <td>3.435</td>\n",
       "      <td>17.30</td>\n",
       "      <td>0</td>\n",
       "      <td>0</td>\n",
       "      <td>3</td>\n",
       "      <td>2</td>\n",
       "    </tr>\n",
       "    <tr>\n",
       "      <th>Camaro Z28</th>\n",
       "      <td>Camaro Z28</td>\n",
       "      <td>13.3</td>\n",
       "      <td>8</td>\n",
       "      <td>350.0</td>\n",
       "      <td>245</td>\n",
       "      <td>3.73</td>\n",
       "      <td>3.840</td>\n",
       "      <td>15.41</td>\n",
       "      <td>0</td>\n",
       "      <td>0</td>\n",
       "      <td>3</td>\n",
       "      <td>4</td>\n",
       "    </tr>\n",
       "    <tr>\n",
       "      <th>Pontiac Firebird</th>\n",
       "      <td>Pontiac Firebird</td>\n",
       "      <td>19.2</td>\n",
       "      <td>8</td>\n",
       "      <td>400.0</td>\n",
       "      <td>175</td>\n",
       "      <td>3.08</td>\n",
       "      <td>3.845</td>\n",
       "      <td>17.05</td>\n",
       "      <td>0</td>\n",
       "      <td>0</td>\n",
       "      <td>3</td>\n",
       "      <td>2</td>\n",
       "    </tr>\n",
       "    <tr>\n",
       "      <th>Fiat X1-9</th>\n",
       "      <td>Fiat X1-9</td>\n",
       "      <td>27.3</td>\n",
       "      <td>4</td>\n",
       "      <td>79.0</td>\n",
       "      <td>66</td>\n",
       "      <td>4.08</td>\n",
       "      <td>1.935</td>\n",
       "      <td>18.90</td>\n",
       "      <td>1</td>\n",
       "      <td>1</td>\n",
       "      <td>4</td>\n",
       "      <td>1</td>\n",
       "    </tr>\n",
       "    <tr>\n",
       "      <th>Porsche 914-2</th>\n",
       "      <td>Porsche 914-2</td>\n",
       "      <td>26.0</td>\n",
       "      <td>4</td>\n",
       "      <td>120.3</td>\n",
       "      <td>91</td>\n",
       "      <td>4.43</td>\n",
       "      <td>2.140</td>\n",
       "      <td>16.70</td>\n",
       "      <td>0</td>\n",
       "      <td>1</td>\n",
       "      <td>5</td>\n",
       "      <td>2</td>\n",
       "    </tr>\n",
       "    <tr>\n",
       "      <th>Lotus Europa</th>\n",
       "      <td>Lotus Europa</td>\n",
       "      <td>30.4</td>\n",
       "      <td>4</td>\n",
       "      <td>95.1</td>\n",
       "      <td>113</td>\n",
       "      <td>3.77</td>\n",
       "      <td>1.513</td>\n",
       "      <td>16.90</td>\n",
       "      <td>1</td>\n",
       "      <td>1</td>\n",
       "      <td>5</td>\n",
       "      <td>2</td>\n",
       "    </tr>\n",
       "    <tr>\n",
       "      <th>Ford Pantera L</th>\n",
       "      <td>Ford Pantera L</td>\n",
       "      <td>15.8</td>\n",
       "      <td>8</td>\n",
       "      <td>351.0</td>\n",
       "      <td>264</td>\n",
       "      <td>4.22</td>\n",
       "      <td>3.170</td>\n",
       "      <td>14.50</td>\n",
       "      <td>0</td>\n",
       "      <td>1</td>\n",
       "      <td>5</td>\n",
       "      <td>4</td>\n",
       "    </tr>\n",
       "    <tr>\n",
       "      <th>Ferrari Dino</th>\n",
       "      <td>Ferrari Dino</td>\n",
       "      <td>19.7</td>\n",
       "      <td>6</td>\n",
       "      <td>145.0</td>\n",
       "      <td>175</td>\n",
       "      <td>3.62</td>\n",
       "      <td>2.770</td>\n",
       "      <td>15.50</td>\n",
       "      <td>0</td>\n",
       "      <td>1</td>\n",
       "      <td>5</td>\n",
       "      <td>6</td>\n",
       "    </tr>\n",
       "    <tr>\n",
       "      <th>Maserati Bora</th>\n",
       "      <td>Maserati Bora</td>\n",
       "      <td>15.0</td>\n",
       "      <td>8</td>\n",
       "      <td>301.0</td>\n",
       "      <td>335</td>\n",
       "      <td>3.54</td>\n",
       "      <td>3.570</td>\n",
       "      <td>14.60</td>\n",
       "      <td>0</td>\n",
       "      <td>1</td>\n",
       "      <td>5</td>\n",
       "      <td>8</td>\n",
       "    </tr>\n",
       "    <tr>\n",
       "      <th>Volvo 142E</th>\n",
       "      <td>Volvo 142E</td>\n",
       "      <td>21.4</td>\n",
       "      <td>4</td>\n",
       "      <td>121.0</td>\n",
       "      <td>109</td>\n",
       "      <td>4.11</td>\n",
       "      <td>2.780</td>\n",
       "      <td>18.60</td>\n",
       "      <td>1</td>\n",
       "      <td>1</td>\n",
       "      <td>4</td>\n",
       "      <td>2</td>\n",
       "    </tr>\n",
       "  </tbody>\n",
       "</table>\n",
       "</div>"
      ],
      "text/plain": [
       "                                    name   mpg  cyl   disp   hp  drat     wt  \\\n",
       "name                                                                           \n",
       "Mazda RX4                      Mazda RX4  21.0    6  160.0  110  3.90  2.620   \n",
       "Mazda RX4 Wag              Mazda RX4 Wag  21.0    6  160.0  110  3.90  2.875   \n",
       "Datsun 710                    Datsun 710  22.8    4  108.0   93  3.85  2.320   \n",
       "Hornet 4 Drive            Hornet 4 Drive  21.4    6  258.0  110  3.08  3.215   \n",
       "Hornet Sportabout      Hornet Sportabout  18.7    8  360.0  175  3.15  3.440   \n",
       "Valiant                          Valiant  18.1    6  225.0  105  2.76  3.460   \n",
       "Duster 360                    Duster 360  14.3    8  360.0  245  3.21  3.570   \n",
       "Merc 240D                      Merc 240D  24.4    4  146.7   62  3.69  3.190   \n",
       "Merc 230                        Merc 230  22.8    4  140.8   95  3.92  3.150   \n",
       "Merc 280                        Merc 280  19.2    6  167.6  123  3.92  3.440   \n",
       "Merc 280C                      Merc 280C  17.8    6  167.6  123  3.92  3.440   \n",
       "Merc 450SE                    Merc 450SE  16.4    8  275.8  180  3.07  4.070   \n",
       "Merc 450SL                    Merc 450SL  17.3    8  275.8  180  3.07  3.730   \n",
       "Merc 450SLC                  Merc 450SLC  15.2    8  275.8  180  3.07  3.780   \n",
       "Cadillac Fleetwood    Cadillac Fleetwood  10.4    8  472.0  205  2.93  5.250   \n",
       "Lincoln Continental  Lincoln Continental  10.4    8  460.0  215  3.00  5.424   \n",
       "Chrysler Imperial      Chrysler Imperial  14.7    8  440.0  230  3.23  5.345   \n",
       "Fiat 128                        Fiat 128  32.4    4   78.7   66  4.08  2.200   \n",
       "Honda Civic                  Honda Civic  30.4    4   75.7   52  4.93  1.615   \n",
       "Toyota Corolla            Toyota Corolla  33.9    4   71.1   65  4.22  1.835   \n",
       "Toyota Corona              Toyota Corona  21.5    4  120.1   97  3.70  2.465   \n",
       "Dodge Challenger        Dodge Challenger  15.5    8  318.0  150  2.76  3.520   \n",
       "AMC Javelin                  AMC Javelin  15.2    8  304.0  150  3.15  3.435   \n",
       "Camaro Z28                    Camaro Z28  13.3    8  350.0  245  3.73  3.840   \n",
       "Pontiac Firebird        Pontiac Firebird  19.2    8  400.0  175  3.08  3.845   \n",
       "Fiat X1-9                      Fiat X1-9  27.3    4   79.0   66  4.08  1.935   \n",
       "Porsche 914-2              Porsche 914-2  26.0    4  120.3   91  4.43  2.140   \n",
       "Lotus Europa                Lotus Europa  30.4    4   95.1  113  3.77  1.513   \n",
       "Ford Pantera L            Ford Pantera L  15.8    8  351.0  264  4.22  3.170   \n",
       "Ferrari Dino                Ferrari Dino  19.7    6  145.0  175  3.62  2.770   \n",
       "Maserati Bora              Maserati Bora  15.0    8  301.0  335  3.54  3.570   \n",
       "Volvo 142E                    Volvo 142E  21.4    4  121.0  109  4.11  2.780   \n",
       "\n",
       "                      qsec  vs  am  gear  carb  \n",
       "name                                            \n",
       "Mazda RX4            16.46   0   1     4     4  \n",
       "Mazda RX4 Wag        17.02   0   1     4     4  \n",
       "Datsun 710           18.61   1   1     4     1  \n",
       "Hornet 4 Drive       19.44   1   0     3     1  \n",
       "Hornet Sportabout    17.02   0   0     3     2  \n",
       "Valiant              20.22   1   0     3     1  \n",
       "Duster 360           15.84   0   0     3     4  \n",
       "Merc 240D            20.00   1   0     4     2  \n",
       "Merc 230             22.90   1   0     4     2  \n",
       "Merc 280             18.30   1   0     4     4  \n",
       "Merc 280C            18.90   1   0     4     4  \n",
       "Merc 450SE           17.40   0   0     3     3  \n",
       "Merc 450SL           17.60   0   0     3     3  \n",
       "Merc 450SLC          18.00   0   0     3     3  \n",
       "Cadillac Fleetwood   17.98   0   0     3     4  \n",
       "Lincoln Continental  17.82   0   0     3     4  \n",
       "Chrysler Imperial    17.42   0   0     3     4  \n",
       "Fiat 128             19.47   1   1     4     1  \n",
       "Honda Civic          18.52   1   1     4     2  \n",
       "Toyota Corolla       19.90   1   1     4     1  \n",
       "Toyota Corona        20.01   1   0     3     1  \n",
       "Dodge Challenger     16.87   0   0     3     2  \n",
       "AMC Javelin          17.30   0   0     3     2  \n",
       "Camaro Z28           15.41   0   0     3     4  \n",
       "Pontiac Firebird     17.05   0   0     3     2  \n",
       "Fiat X1-9            18.90   1   1     4     1  \n",
       "Porsche 914-2        16.70   0   1     5     2  \n",
       "Lotus Europa         16.90   1   1     5     2  \n",
       "Ford Pantera L       14.50   0   1     5     4  \n",
       "Ferrari Dino         15.50   0   1     5     6  \n",
       "Maserati Bora        14.60   0   1     5     8  \n",
       "Volvo 142E           18.60   1   1     4     2  "
      ]
     },
     "execution_count": 7,
     "metadata": {},
     "output_type": "execute_result"
    }
   ],
   "source": [
    "mtcars.ix[:,:]"
   ]
  },
  {
   "cell_type": "code",
   "execution_count": 11,
   "metadata": {},
   "outputs": [
    {
     "data": {
      "text/plain": [
       "name\n",
       "Mazda RX4              104\n",
       "Mazda RX4 Wag          104\n",
       "Datsun 710              89\n",
       "Hornet 4 Drive         104\n",
       "Hornet Sportabout      167\n",
       "Valiant                 99\n",
       "Duster 360             237\n",
       "Merc 240D               58\n",
       "Merc 230                91\n",
       "Merc 280               117\n",
       "Merc 280C              117\n",
       "Merc 450SE             172\n",
       "Merc 450SL             172\n",
       "Merc 450SLC            172\n",
       "Cadillac Fleetwood     197\n",
       "Lincoln Continental    207\n",
       "Chrysler Imperial      222\n",
       "Fiat 128                62\n",
       "Honda Civic             48\n",
       "Toyota Corolla          61\n",
       "Toyota Corona           93\n",
       "Dodge Challenger       142\n",
       "AMC Javelin            142\n",
       "Camaro Z28             237\n",
       "Pontiac Firebird       167\n",
       "Fiat X1-9               62\n",
       "Porsche 914-2           87\n",
       "Lotus Europa           109\n",
       "Ford Pantera L         256\n",
       "Ferrari Dino           169\n",
       "Maserati Bora          327\n",
       "Volvo 142E             105\n",
       "dtype: int64"
      ]
     },
     "execution_count": 11,
     "metadata": {},
     "output_type": "execute_result"
    }
   ],
   "source": [
    "a=(mtcars[\"hp\"]-mtcars[\"cyl\"])\n",
    "a"
   ]
  },
  {
   "cell_type": "markdown",
   "metadata": {},
   "source": [
    "### Question 3\n",
    "What are the cars having highest weight(wt) and lowest weight(wt)?\n",
    "\n",
    "**Hint:** Use idxmax() and idxmin() to locate the row\n",
    "\n",
    "Use **.iloc** function to print the  row\n",
    "\n",
    "**Note:** Both idxmax and idxmin belong to pandas"
   ]
  },
  {
   "cell_type": "code",
   "execution_count": 16,
   "metadata": {},
   "outputs": [
    {
     "ename": "TypeError",
     "evalue": "reduction operation 'argmax' not allowed for this dtype",
     "output_type": "error",
     "traceback": [
      "\u001b[0;31m---------------------------------------------------------------------------\u001b[0m",
      "\u001b[0;31mTypeError\u001b[0m                                 Traceback (most recent call last)",
      "\u001b[0;32m<ipython-input-16-8422a93dd204>\u001b[0m in \u001b[0;36m<module>\u001b[0;34m()\u001b[0m\n\u001b[0;32m----> 1\u001b[0;31m \u001b[0mmtcars\u001b[0m\u001b[0;34m.\u001b[0m\u001b[0midxmax\u001b[0m\u001b[0;34m(\u001b[0m\u001b[0;34m)\u001b[0m\u001b[0;34m\u001b[0m\u001b[0m\n\u001b[0m",
      "\u001b[0;32m/anaconda3/lib/python3.6/site-packages/pandas/core/frame.py\u001b[0m in \u001b[0;36midxmax\u001b[0;34m(self, axis, skipna)\u001b[0m\n\u001b[1;32m   7016\u001b[0m         \"\"\"\n\u001b[1;32m   7017\u001b[0m         \u001b[0maxis\u001b[0m \u001b[0;34m=\u001b[0m \u001b[0mself\u001b[0m\u001b[0;34m.\u001b[0m\u001b[0m_get_axis_number\u001b[0m\u001b[0;34m(\u001b[0m\u001b[0maxis\u001b[0m\u001b[0;34m)\u001b[0m\u001b[0;34m\u001b[0m\u001b[0m\n\u001b[0;32m-> 7018\u001b[0;31m         \u001b[0mindices\u001b[0m \u001b[0;34m=\u001b[0m \u001b[0mnanops\u001b[0m\u001b[0;34m.\u001b[0m\u001b[0mnanargmax\u001b[0m\u001b[0;34m(\u001b[0m\u001b[0mself\u001b[0m\u001b[0;34m.\u001b[0m\u001b[0mvalues\u001b[0m\u001b[0;34m,\u001b[0m \u001b[0maxis\u001b[0m\u001b[0;34m=\u001b[0m\u001b[0maxis\u001b[0m\u001b[0;34m,\u001b[0m \u001b[0mskipna\u001b[0m\u001b[0;34m=\u001b[0m\u001b[0mskipna\u001b[0m\u001b[0;34m)\u001b[0m\u001b[0;34m\u001b[0m\u001b[0m\n\u001b[0m\u001b[1;32m   7019\u001b[0m         \u001b[0mindex\u001b[0m \u001b[0;34m=\u001b[0m \u001b[0mself\u001b[0m\u001b[0;34m.\u001b[0m\u001b[0m_get_axis\u001b[0m\u001b[0;34m(\u001b[0m\u001b[0maxis\u001b[0m\u001b[0;34m)\u001b[0m\u001b[0;34m\u001b[0m\u001b[0m\n\u001b[1;32m   7020\u001b[0m         \u001b[0mresult\u001b[0m \u001b[0;34m=\u001b[0m \u001b[0;34m[\u001b[0m\u001b[0mindex\u001b[0m\u001b[0;34m[\u001b[0m\u001b[0mi\u001b[0m\u001b[0;34m]\u001b[0m \u001b[0;32mif\u001b[0m \u001b[0mi\u001b[0m \u001b[0;34m>=\u001b[0m \u001b[0;36m0\u001b[0m \u001b[0;32melse\u001b[0m \u001b[0mnp\u001b[0m\u001b[0;34m.\u001b[0m\u001b[0mnan\u001b[0m \u001b[0;32mfor\u001b[0m \u001b[0mi\u001b[0m \u001b[0;32min\u001b[0m \u001b[0mindices\u001b[0m\u001b[0;34m]\u001b[0m\u001b[0;34m\u001b[0m\u001b[0m\n",
      "\u001b[0;32m/anaconda3/lib/python3.6/site-packages/pandas/core/nanops.py\u001b[0m in \u001b[0;36m_f\u001b[0;34m(*args, **kwargs)\u001b[0m\n\u001b[1;32m     72\u001b[0m             \u001b[0;32mif\u001b[0m \u001b[0many\u001b[0m\u001b[0;34m(\u001b[0m\u001b[0mself\u001b[0m\u001b[0;34m.\u001b[0m\u001b[0mcheck\u001b[0m\u001b[0;34m(\u001b[0m\u001b[0mobj\u001b[0m\u001b[0;34m)\u001b[0m \u001b[0;32mfor\u001b[0m \u001b[0mobj\u001b[0m \u001b[0;32min\u001b[0m \u001b[0mobj_iter\u001b[0m\u001b[0;34m)\u001b[0m\u001b[0;34m:\u001b[0m\u001b[0;34m\u001b[0m\u001b[0m\n\u001b[1;32m     73\u001b[0m                 \u001b[0mmsg\u001b[0m \u001b[0;34m=\u001b[0m \u001b[0;34m'reduction operation {name!r} not allowed for this dtype'\u001b[0m\u001b[0;34m\u001b[0m\u001b[0m\n\u001b[0;32m---> 74\u001b[0;31m                 \u001b[0;32mraise\u001b[0m \u001b[0mTypeError\u001b[0m\u001b[0;34m(\u001b[0m\u001b[0mmsg\u001b[0m\u001b[0;34m.\u001b[0m\u001b[0mformat\u001b[0m\u001b[0;34m(\u001b[0m\u001b[0mname\u001b[0m\u001b[0;34m=\u001b[0m\u001b[0mf\u001b[0m\u001b[0;34m.\u001b[0m\u001b[0m__name__\u001b[0m\u001b[0;34m.\u001b[0m\u001b[0mreplace\u001b[0m\u001b[0;34m(\u001b[0m\u001b[0;34m'nan'\u001b[0m\u001b[0;34m,\u001b[0m \u001b[0;34m''\u001b[0m\u001b[0;34m)\u001b[0m\u001b[0;34m)\u001b[0m\u001b[0;34m)\u001b[0m\u001b[0;34m\u001b[0m\u001b[0m\n\u001b[0m\u001b[1;32m     75\u001b[0m             \u001b[0;32mtry\u001b[0m\u001b[0;34m:\u001b[0m\u001b[0;34m\u001b[0m\u001b[0m\n\u001b[1;32m     76\u001b[0m                 \u001b[0;32mwith\u001b[0m \u001b[0mnp\u001b[0m\u001b[0;34m.\u001b[0m\u001b[0merrstate\u001b[0m\u001b[0;34m(\u001b[0m\u001b[0minvalid\u001b[0m\u001b[0;34m=\u001b[0m\u001b[0;34m'ignore'\u001b[0m\u001b[0;34m)\u001b[0m\u001b[0;34m:\u001b[0m\u001b[0;34m\u001b[0m\u001b[0m\n",
      "\u001b[0;31mTypeError\u001b[0m: reduction operation 'argmax' not allowed for this dtype"
     ]
    }
   ],
   "source": [
    "mtcars.idxmax()\n"
   ]
  },
  {
   "cell_type": "code",
   "execution_count": null,
   "metadata": {},
   "outputs": [],
   "source": []
  },
  {
   "cell_type": "code",
   "execution_count": null,
   "metadata": {},
   "outputs": [],
   "source": []
  },
  {
   "cell_type": "markdown",
   "metadata": {},
   "source": [
    "### Question 4\n",
    "\n",
    "Find the mean of each row and each column in the given dataset.\n",
    "\n",
    "**Hint:** Use .mean() function. To operate on rows use **axis=0**, on columns use **axis=1**"
   ]
  },
  {
   "cell_type": "code",
   "execution_count": 17,
   "metadata": {},
   "outputs": [
    {
     "data": {
      "text/plain": [
       "mpg      20.090625\n",
       "cyl       6.187500\n",
       "disp    230.721875\n",
       "hp      146.687500\n",
       "drat      3.596563\n",
       "wt        3.217250\n",
       "qsec     17.848750\n",
       "vs        0.437500\n",
       "am        0.406250\n",
       "gear      3.687500\n",
       "carb      2.812500\n",
       "dtype: float64"
      ]
     },
     "execution_count": 17,
     "metadata": {},
     "output_type": "execute_result"
    }
   ],
   "source": [
    "mtcars.mean(axis=0)"
   ]
  },
  {
   "cell_type": "code",
   "execution_count": 18,
   "metadata": {},
   "outputs": [
    {
     "data": {
      "text/plain": [
       "name\n",
       "Mazda RX4              29.907273\n",
       "Mazda RX4 Wag          29.981364\n",
       "Datsun 710             23.598182\n",
       "Hornet 4 Drive         38.739545\n",
       "Hornet Sportabout      53.664545\n",
       "Valiant                35.049091\n",
       "Duster 360             59.720000\n",
       "Merc 240D              24.634545\n",
       "Merc 230               27.233636\n",
       "Merc 280               31.860000\n",
       "Merc 280C              31.787273\n",
       "Merc 450SE             46.430909\n",
       "Merc 450SL             46.500000\n",
       "Merc 450SLC            46.350000\n",
       "Cadillac Fleetwood     66.232727\n",
       "Lincoln Continental    66.058545\n",
       "Chrysler Imperial      65.972273\n",
       "Fiat 128               19.440909\n",
       "Honda Civic            17.742273\n",
       "Toyota Corolla         18.814091\n",
       "Toyota Corona          24.888636\n",
       "Dodge Challenger       47.240909\n",
       "AMC Javelin            46.007727\n",
       "Camaro Z28             58.752727\n",
       "Pontiac Firebird       57.379545\n",
       "Fiat X1-9              18.928636\n",
       "Porsche 914-2          24.779091\n",
       "Lotus Europa           24.880273\n",
       "Ford Pantera L         60.971818\n",
       "Ferrari Dino           34.508182\n",
       "Maserati Bora          63.155455\n",
       "Volvo 142E             26.262727\n",
       "dtype: float64"
      ]
     },
     "execution_count": 18,
     "metadata": {},
     "output_type": "execute_result"
    }
   ],
   "source": [
    "mtcars.mean(axis=1)"
   ]
  },
  {
   "cell_type": "markdown",
   "metadata": {},
   "source": [
    "### Question 5\n",
    "\n",
    "Plot mpg values of mtcards dataframe using matplotlib.\n",
    "\n",
    "**Hint: Use plt.plot function**"
   ]
  },
  {
   "cell_type": "code",
   "execution_count": 34,
   "metadata": {},
   "outputs": [
    {
     "data": {
      "text/plain": [
       "[<matplotlib.lines.Line2D at 0x122263f28>]"
      ]
     },
     "execution_count": 34,
     "metadata": {},
     "output_type": "execute_result"
    },
    {
     "data": {
      "image/png": "[encoded data removed]",
      "text/plain": [
       "<Figure size 432x288 with 1 Axes>"
      ]
     },
     "metadata": {},
     "output_type": "display_data"
    }
   ],
   "source": [
    "import matplotlib.pyplot as plt\n",
    "f=mtcars['mpg']\n",
    "f\n",
    "plt.plot(f)"
   ]
  },
  {
   "cell_type": "markdown",
   "metadata": {},
   "source": [
    "## Part 2"
   ]
  },
  {
   "cell_type": "markdown",
   "metadata": {},
   "source": [
    "## Measures of Dispersion"
   ]
  },
  {
   "cell_type": "markdown",
   "metadata": {},
   "source": [
    "Measures of Dispersion (Spread) are statistics that describe how data varies. Measure of dispersion gives us the sense of how much the data tends to diverge from the central tendency."
   ]
  },
  {
   "cell_type": "markdown",
   "metadata": {},
   "source": [
    "### Question 6\n",
    "\n",
    "What the range of `mpg` in the given dataset?\n",
    "\n",
    "**Hint:** Range = max-min"
   ]
  },
  {
   "cell_type": "code",
   "execution_count": 42,
   "metadata": {},
   "outputs": [
    {
     "data": {
      "text/plain": [
       "23.5"
      ]
     },
     "execution_count": 42,
     "metadata": {},
     "output_type": "execute_result"
    }
   ],
   "source": [
    "a=max(mtcars['mpg'])\n",
    "b=min(mtcars['mpg'])\n",
    "c=a-b\n",
    "c"
   ]
  },
  {
   "cell_type": "markdown",
   "metadata": {},
   "source": [
    "### Question 7\n",
    "\n",
    "Calculate the 25th quantile (lower quantile)for `mpg` in the given dataset.\n",
    "\n",
    "**Hint:** Use **.quantile()**"
   ]
  },
  {
   "cell_type": "code",
   "execution_count": 50,
   "metadata": {},
   "outputs": [
    {
     "data": {
      "text/plain": [
       "19.2"
      ]
     },
     "execution_count": 50,
     "metadata": {},
     "output_type": "execute_result"
    }
   ],
   "source": [
    "a=mtcars['mpg']\n",
    "a\n",
    "a.quantile(q=0.5,interpolation='lower')"
   ]
  },
  {
   "cell_type": "code",
   "execution_count": 47,
   "metadata": {},
   "outputs": [
    {
     "data": {
      "text/plain": [
       "count    32.000000\n",
       "mean     20.090625\n",
       "std       6.026948\n",
       "min      10.400000\n",
       "25%      15.425000\n",
       "50%      19.200000\n",
       "75%      22.800000\n",
       "max      33.900000\n",
       "Name: mpg, dtype: float64"
      ]
     },
     "execution_count": 47,
     "metadata": {},
     "output_type": "execute_result"
    }
   ],
   "source": [
    "a.describe()"
   ]
  },
  {
   "cell_type": "markdown",
   "metadata": {},
   "source": [
    "### Question 8\n",
    "\n",
    "Calculate the Inter-Quartile Range(IQR) for `mpg` in the given dataset."
   ]
  },
  {
   "cell_type": "markdown",
   "metadata": {},
   "source": [
    "Interquartile range (IQR) is another common measure of spread. IQR is the distance between the 3rd quartile and the 1st quartile.\n",
    "\n",
    "**Hint:** IQR = Q3 - Q1"
   ]
  },
  {
   "cell_type": "code",
   "execution_count": 53,
   "metadata": {},
   "outputs": [
    {
     "data": {
      "text/plain": [
       "7.375"
      ]
     },
     "execution_count": 53,
     "metadata": {},
     "output_type": "execute_result"
    }
   ],
   "source": [
    "q3=22.8\n",
    "q1=15.425\n",
    "IQR=q3-q1\n",
    "IQR\n"
   ]
  },
  {
   "cell_type": "markdown",
   "metadata": {},
   "source": [
    "### Question 9\n",
    "\n",
    "Calculate the Variance, Standard Deviation and Median Absolute Deviation for `mpg`."
   ]
  },
  {
   "cell_type": "markdown",
   "metadata": {},
   "source": [
    "Variance and Standard Deviation are two other common measure of dispersion.\n",
    "\n",
    "**Hint:** Use .var() and .std()"
   ]
  },
  {
   "cell_type": "markdown",
   "metadata": {},
   "source": [
    "**Hint:** Median Absolute Deviation - alternative measure of spread based on the median. It is the median of the absolute value of the deviations from the median. "
   ]
  },
  {
   "cell_type": "code",
   "execution_count": 57,
   "metadata": {},
   "outputs": [
    {
     "data": {
      "text/plain": [
       "6.026948052089105"
      ]
     },
     "execution_count": 57,
     "metadata": {},
     "output_type": "execute_result"
    }
   ],
   "source": [
    "m=a.mean()\n",
    "v=a.var()\n",
    "s=a.std()\n",
    "m\n",
    "\n"
   ]
  },
  {
   "cell_type": "code",
   "execution_count": 59,
   "metadata": {},
   "outputs": [
    {
     "data": {
      "text/plain": [
       "6.026948052089105"
      ]
     },
     "execution_count": 59,
     "metadata": {},
     "output_type": "execute_result"
    }
   ],
   "source": [
    "s"
   ]
  },
  {
   "cell_type": "code",
   "execution_count": 58,
   "metadata": {},
   "outputs": [
    {
     "data": {
      "text/plain": [
       "36.32410282258065"
      ]
     },
     "execution_count": 58,
     "metadata": {},
     "output_type": "execute_result"
    }
   ],
   "source": [
    "v"
   ]
  },
  {
   "cell_type": "markdown",
   "metadata": {},
   "source": [
    "## Part 3"
   ]
  },
  {
   "cell_type": "markdown",
   "metadata": {},
   "source": [
    "## Probability Distributions"
   ]
  },
  {
   "cell_type": "markdown",
   "metadata": {},
   "source": [
    "The probability distribution describes how a random variable is distributed. It tells us which values a variable is most likely to take on and which values are less likely to take on. "
   ]
  },
  {
   "cell_type": "markdown",
   "metadata": {},
   "source": [
    "Each value in the given range is equally likely to occur. "
   ]
  },
  {
   "cell_type": "code",
   "execution_count": 60,
   "metadata": {},
   "outputs": [],
   "source": [
    "import scipy.stats as stats # Many functions for probability distributions in python are in scipy.stats"
   ]
  },
  {
   "cell_type": "markdown",
   "metadata": {},
   "source": [
    "### Question 10\n",
    "\n",
    "Generate 1000 datapoints with standard normal distribution with mean 0 and standard deviation 1. "
   ]
  },
  {
   "cell_type": "markdown",
   "metadata": {},
   "source": [
    "#### Normal Distribution"
   ]
  },
  {
   "cell_type": "markdown",
   "metadata": {},
   "source": [
    "The normal or Gaussian Distribution is a continuos probability distribution given by a symmetric bell shaped curve. It is defined its center(mean) and spread(std)."
   ]
  },
  {
   "cell_type": "markdown",
   "metadata": {},
   "source": [
    "The bulk of the observations generated from a normal distribution lie near the mean which lies at the center. About 68% of the data lies within 1 std, 95% lies within 2 stds and 99.7% lies within 3 stds.\n",
    "\n",
    "**Hint:** You can use **np.random.normal()** function to generate normal distribution"
   ]
  },
  {
   "cell_type": "code",
   "execution_count": 62,
   "metadata": {},
   "outputs": [
    {
     "data": {
      "text/plain": [
       "array([ 1.35367308,  0.56273417,  1.35924282, -0.34434119,  1.81448277,\n",
       "       -0.78848089,  0.54912713,  0.21780692,  2.35052669,  0.88285072,\n",
       "       -1.7166648 ,  1.097731  , -0.69041046, -0.26911674,  0.56166069,\n",
       "        0.42800871,  1.4660759 , -1.11980592,  1.79522554, -0.06978826,\n",
       "        1.2714136 , -0.73140386, -0.83777848, -1.58073403, -1.53594512,\n",
       "        0.85178037, -1.08126348, -0.90742534, -0.08587091,  0.91899876,\n",
       "        1.13782844, -1.20714611, -1.25012508, -1.18996929,  0.14727386,\n",
       "        2.58490546, -0.0331084 ,  0.19573491,  1.29010613, -1.62848557,\n",
       "        0.31936469,  1.04705963, -1.19595723, -0.58489355, -0.15103739,\n",
       "       -1.87558494, -1.12242404,  0.95636027,  0.48365955, -0.50177622,\n",
       "       -1.19303446, -0.46667931, -1.03585755,  0.15945567,  1.36806176,\n",
       "        0.30632903,  1.06202795,  0.81775168,  1.20351865,  0.37364755,\n",
       "        0.0052231 ,  0.39209146,  1.3474306 ,  1.69351639, -1.38037654,\n",
       "        2.53256508,  0.89592585,  0.09355184,  0.69816057, -0.1389207 ,\n",
       "        0.44302306,  0.67336421,  0.61345744,  0.18477319, -0.3804106 ,\n",
       "       -0.64554858, -0.26568707, -1.75343492, -0.43852881,  1.14286243,\n",
       "       -0.3897334 , -1.0362219 , -2.13907524,  0.90754686,  0.15770301,\n",
       "        0.12490675,  1.53571998,  0.30866315, -0.32291913,  0.36617871,\n",
       "        0.03154465,  1.85996506, -1.3793486 ,  1.54529701, -0.59308321,\n",
       "       -0.6636692 , -1.01054631, -0.80053655,  2.74070535,  0.73698617,\n",
       "       -1.76933359,  1.23771123, -1.56714773, -0.12384198, -0.4147102 ,\n",
       "       -0.11059456,  0.35028081, -0.29563836, -0.10463751, -0.02477945,\n",
       "       -0.76849837,  1.15474174,  1.52085425,  0.97524239,  0.01400992,\n",
       "        1.62572713, -1.5884713 , -1.54680579, -1.30975386, -0.83218311,\n",
       "       -1.0891209 ,  0.95873251, -1.32049032, -1.38723225, -0.2025475 ,\n",
       "        0.26131407,  0.83296162,  0.11074089,  0.8436805 ,  0.24164344,\n",
       "       -0.09465525,  0.6011068 ,  1.47145418, -0.76788897, -0.64908796,\n",
       "       -3.02411826, -1.00052782,  1.72941752,  0.24832532, -0.28557947,\n",
       "       -0.13863029, -2.57647469,  0.72571435, -0.98511012, -1.81225173,\n",
       "       -0.62694431, -0.68414351, -0.99059698, -1.6462981 , -0.56506438,\n",
       "       -0.47735478,  0.04111223, -0.04457329, -0.14139163,  0.09885695,\n",
       "        0.76198505, -0.66830198, -0.38398619, -0.2699187 ,  0.37116685,\n",
       "        1.75073605,  0.09762267,  1.14838134,  1.38674643, -0.59542102,\n",
       "        0.14255393,  0.98563945,  1.23522172, -0.20262053, -0.18399817,\n",
       "       -0.97622778,  1.76517181, -1.03918963,  0.87653275, -2.00317476,\n",
       "       -1.13447007,  0.54512032, -1.54964004,  2.0781563 , -1.09921   ,\n",
       "       -0.78051774, -1.24296741, -0.32572098, -1.18451401,  1.47792144,\n",
       "       -0.65482512, -0.43046417, -0.98328574,  0.97040399,  0.53666339,\n",
       "       -1.40246888,  0.36637965, -0.62618233,  1.84521088,  0.89386485,\n",
       "       -0.18647068,  0.00652758,  1.66904798,  0.97139783,  0.93409072,\n",
       "       -0.72257576, -0.71567514, -0.48123216, -0.70694021, -0.07714275,\n",
       "       -0.25519686, -0.62129375, -0.71889119, -0.00551326, -0.50225327,\n",
       "        1.53396716,  1.41758136, -1.06089435, -1.36082938, -0.76884571,\n",
       "       -0.98928653, -1.76659456, -1.04187574, -0.2575993 ,  0.9484343 ,\n",
       "       -0.52611611,  0.13458275,  0.85732719,  0.86835319,  0.07652265,\n",
       "        1.15132994, -1.44653379, -0.09612999,  0.59060617, -1.15971283,\n",
       "        0.08572154,  0.59949933,  2.0621855 , -0.12130559,  0.38788584,\n",
       "        1.17808146, -1.22599263, -1.93204301, -1.42867754,  1.15694008,\n",
       "        1.63119594, -0.91367919,  0.12331903, -0.11649651, -0.59126204,\n",
       "        1.23144798,  0.06600446,  0.3689382 ,  0.83971997, -0.01848153,\n",
       "        1.53482791,  0.81626969,  2.39236856, -0.48663964, -0.35597169,\n",
       "       -2.13130914, -0.51639789, -0.19025641, -0.98694574,  1.13006772,\n",
       "        0.39268405,  0.39858737,  0.3896516 , -1.4616203 ,  2.4114875 ,\n",
       "       -0.35656318, -0.60712177,  0.93632028, -2.1984581 ,  0.21603043,\n",
       "       -1.03588858, -0.35378716,  1.19785597,  0.45109278,  0.94604612,\n",
       "       -1.77451698,  0.01201279, -0.34456488, -0.37048193,  0.13273427,\n",
       "       -0.03444877, -1.25121434,  1.24098566, -0.97060555,  2.33556656,\n",
       "       -0.58632701,  1.46051726, -0.60217444,  2.22221434, -0.99357705,\n",
       "       -0.32323796,  0.05380321,  0.57994174, -0.1226399 , -1.60940098,\n",
       "       -0.78894042, -1.31349991,  0.28617388,  0.3845481 , -0.43079534,\n",
       "       -0.69680787, -0.15715737,  0.6339512 , -1.21700724,  0.07689698,\n",
       "        0.8956668 , -0.474262  , -0.39000888,  0.20270839,  1.5084835 ,\n",
       "       -0.05246595, -0.43139545, -0.97696833, -1.14108674,  0.67195507,\n",
       "       -0.21997803,  0.23055183, -0.63713258, -0.25289427,  1.71212879,\n",
       "        0.84244756, -0.35737497, -1.61961559,  0.50078427,  2.98058926,\n",
       "       -0.05087556,  0.6412615 ,  0.75989079, -1.25476413,  0.5661713 ,\n",
       "        0.93941036, -0.26337945,  1.3521801 , -1.32982406, -0.50255994,\n",
       "        0.43635997,  1.7963185 ,  1.91062433,  0.13674092,  0.35313524,\n",
       "       -2.37839736, -1.4475318 ,  2.15671571, -0.49241921, -2.10032309,\n",
       "        1.80188188, -0.97862097, -0.16505328,  0.22843498,  0.79404376,\n",
       "        1.63899801, -0.66497213,  0.40356472, -0.21473022,  0.98196646,\n",
       "        1.57638313, -1.55741615,  2.47095529,  0.80826609, -1.21818065,\n",
       "       -0.15878061, -0.46494146, -0.09172101,  0.99259214, -0.55033631,\n",
       "        0.86870721, -0.10592865, -2.11465153, -0.99374362,  0.83581624,\n",
       "       -0.23609274,  0.07758158,  0.7319757 ,  1.36306516,  0.21513211,\n",
       "       -0.12326523, -1.19100274, -1.06313284, -1.19053901, -0.2309197 ,\n",
       "       -0.10392355,  1.3555898 ,  1.01253653,  0.96539846, -0.23507402,\n",
       "        1.12753086,  0.44990837,  0.58288279, -0.15607313,  1.05838386,\n",
       "       -1.05117137,  0.15117217,  0.27008705,  0.99627716,  1.41651833,\n",
       "       -0.44872717,  1.08777594, -0.17981061,  0.3456223 ,  0.09686002,\n",
       "       -0.36580405,  1.34418581, -1.29246032, -1.19784849,  1.40304359,\n",
       "       -0.81807824,  0.06311172,  1.35641107,  0.72739548, -1.41096433,\n",
       "       -0.87006049, -1.68535464,  0.04478749, -0.00399565,  0.17833506,\n",
       "        1.12158112, -0.14915092, -0.18849534, -1.22363835,  0.91457829,\n",
       "       -0.20892078, -1.27510743,  1.38179848, -0.38928284, -1.24894052,\n",
       "       -0.77624477,  0.25703445,  0.28834918,  0.1971353 , -0.5606697 ,\n",
       "       -0.35000509, -1.89201648,  0.48682098,  0.62926951, -0.764937  ,\n",
       "       -0.08422839, -0.09214231, -0.40788013,  0.21600664,  0.42512582,\n",
       "        0.8201467 ,  0.95156737, -0.57538862,  0.80373429,  0.73720223,\n",
       "       -0.77131124,  1.28851837,  0.05822695, -1.37489238, -2.07960831,\n",
       "       -0.4399077 ,  1.37248317, -0.29144996, -0.4789984 , -0.28010802,\n",
       "        2.15948672,  1.57244953,  1.04444154,  0.34538012, -0.97910007,\n",
       "       -0.08835335, -0.55144294,  1.03460379,  0.35889658, -1.3642543 ,\n",
       "        0.52317329, -0.8951942 ,  0.46470619,  0.48894658,  0.19952581,\n",
       "        2.17011507,  2.80745356, -2.45508794, -0.07594407, -0.57973013,\n",
       "       -1.13044273, -0.67935585,  0.7409417 , -0.31363635, -0.44923134,\n",
       "       -1.09530085,  1.13943382,  0.35500388, -0.04859546,  0.08296598,\n",
       "       -0.836021  , -0.36830541,  0.25552602,  0.30338163,  1.03439231,\n",
       "        0.57159147, -0.66310681,  0.04049967,  0.71611664, -0.24928267,\n",
       "        0.70456533, -0.52901302,  0.02474384, -0.90786653,  0.70635751,\n",
       "       -0.11209979, -0.16719472,  1.55954694, -0.48018468,  0.5431027 ,\n",
       "       -0.94441252,  0.98651832, -1.01631374,  0.36254946, -0.57203847,\n",
       "       -2.04029519,  1.55956561, -0.88033605,  0.11045413, -0.98768285,\n",
       "       -1.11389448, -0.14095483, -2.2724096 , -2.71245928, -0.42674186,\n",
       "       -0.00736908, -0.13292938,  0.22417421,  0.79356395,  0.24738631,\n",
       "       -0.08286093,  0.0644366 ,  0.37891536,  0.99391247, -0.53886628,\n",
       "        2.40550547, -0.51274027,  1.19391634, -1.46079232,  0.56840354,\n",
       "       -1.01618796, -0.09988567, -0.24944584,  0.28987476, -0.48741749,\n",
       "       -1.65727132, -2.1407567 ,  0.20508521,  0.27921309,  0.68269019,\n",
       "       -1.25629398,  0.29447172,  0.67220543, -1.38227882,  0.86422516,\n",
       "       -0.70052987, -0.58550979, -0.57108953,  0.0838538 , -1.43802984,\n",
       "        1.74562356,  1.48545141, -1.47066818, -0.7882782 , -1.01792124,\n",
       "        2.12954102, -0.18388998, -0.75992148, -0.38088237,  0.87840286,\n",
       "        1.04697335,  1.06468906,  0.10923444,  0.89983281, -0.17774079,\n",
       "        1.06987426, -1.36566518, -1.42123996, -1.28214317,  1.96546156,\n",
       "        2.02764275,  0.97298307, -0.66499624, -0.31277333, -0.66308763,\n",
       "       -0.26604296, -0.35103279,  0.7390688 , -1.80154346,  0.16461584,\n",
       "        0.46373765, -0.49826278,  0.82760491, -0.00964566, -1.08590481,\n",
       "        0.60653217, -0.49218791,  0.85246459, -0.55270365, -0.38718943,\n",
       "        1.31169635,  0.95722551,  0.52879722, -1.22723211,  0.34266849,\n",
       "        0.08324759, -1.24645173,  0.90564631, -0.93971909,  0.85127601,\n",
       "        0.99166006,  0.57868639,  2.11784965,  0.4984305 , -0.64499442,\n",
       "        0.44820573, -1.62333332, -0.0700627 , -0.68715177,  1.17620011,\n",
       "       -0.16776724, -0.26411179,  0.69881484,  0.77016443, -0.74724788,\n",
       "       -0.28266887,  0.60465592, -0.49708186, -0.12473048,  0.04047163,\n",
       "        0.72192288, -0.25102785, -0.20366498,  0.0181803 , -0.57499085,\n",
       "        0.01532305, -0.81034783, -0.44861635,  0.12744905, -1.53008195,\n",
       "        0.57042722, -0.2464095 ,  0.4428989 , -0.32646259,  0.52990483,\n",
       "        1.40970359, -0.06123979, -0.57738647, -0.47430792,  1.39036546,\n",
       "        1.41445955, -1.08293826, -0.50965216,  2.19595017,  0.48372278,\n",
       "       -0.14082295, -0.27265009, -1.75521352,  0.23152333, -1.24095352,\n",
       "       -2.12290667, -1.64817441, -1.65965085, -0.79550883, -1.33200208,\n",
       "        0.41793205,  0.57345004, -1.27840838, -0.38394888, -0.35075049,\n",
       "        0.23833682,  0.08829231,  0.09232432,  0.41111157, -0.55596676,\n",
       "        0.87406485,  0.66876809, -0.24040227, -1.2759822 ,  0.47872914,\n",
       "       -0.66604286,  1.96033264, -0.96419749, -2.11528084, -0.69277011,\n",
       "        0.51670735,  0.948668  , -0.87235091,  1.44432866,  0.59093662,\n",
       "        0.29282439,  0.93905931,  1.62766684,  1.06880651, -0.67774131,\n",
       "        2.76253478, -1.00668032,  0.40577667, -0.74379509,  1.25431244,\n",
       "        0.44979728,  2.14903489, -0.7781237 , -1.3557067 , -0.31522632,\n",
       "        0.41267166, -0.46530594,  1.42711054, -0.7507245 , -0.88225989,\n",
       "       -1.57122734,  0.17200622, -0.3324504 , -0.08989522,  2.06576979,\n",
       "       -0.5504718 , -0.69937487, -0.23239572, -0.66676427, -0.85553007,\n",
       "       -1.69591744,  1.35473068, -0.76027523,  1.30980259, -0.02210378,\n",
       "        0.83766571, -1.82353496, -0.52346971, -1.1070395 ,  0.38542966,\n",
       "        1.83280511, -0.35015896,  0.17775141, -1.4231414 ,  1.39349347,\n",
       "       -0.84705008, -0.84024956, -1.2914646 , -0.32888629, -1.62144784,\n",
       "       -1.27007719, -0.34911575, -2.43847174,  0.38344077,  0.7989514 ,\n",
       "       -0.01216297, -0.73130421,  0.89083317, -0.88422886, -0.48799017,\n",
       "        1.47457393,  0.46006252,  0.78363664,  0.33608145, -0.13813223,\n",
       "        0.98301829, -1.30053802, -1.04026627, -1.17635493,  0.55240796,\n",
       "        0.75615155,  0.66936031, -1.46785539, -0.0758007 ,  1.34694748,\n",
       "        0.59311412,  0.25108754,  0.31462784,  1.40471967, -0.72006984,\n",
       "        1.41273156,  0.66914643, -0.63781456,  0.59082268,  0.30971918,\n",
       "       -0.48845872,  0.43831079, -0.78184629, -0.87963662, -0.17841376,\n",
       "       -1.0250568 ,  2.3198948 ,  0.43916398, -0.85006624, -0.47336774,\n",
       "        0.62449837,  0.14110245,  0.96213267, -0.94639083, -1.29043647,\n",
       "       -1.01688199, -1.33237284,  0.03685575, -0.30127109, -1.21511675,\n",
       "       -0.1449315 ,  0.70921908, -0.19978355, -1.13265377, -0.08929766,\n",
       "        0.98219421, -0.39974819,  0.16354705, -0.33267486, -0.85447914,\n",
       "        0.12783228,  0.4775937 ,  0.31300455,  0.05115256, -0.79639176,\n",
       "       -0.16399757,  0.67831897, -0.26594325,  2.47904228, -0.67363583,\n",
       "       -0.26348151, -0.36300694,  0.93159924, -0.71629601, -1.62719405,\n",
       "        1.45074555, -0.26479222, -0.84092037, -1.07773985, -0.40442437,\n",
       "        2.07275244,  0.84187255,  1.20815762, -0.7970921 , -0.91378067,\n",
       "        1.07059413,  2.55256299,  2.02284267,  0.43190557, -2.05741049,\n",
       "        2.50861679,  0.3177216 , -0.22040423,  0.53895229,  0.97245417,\n",
       "        1.64197427,  1.59735229,  1.29527454,  0.66041973, -0.4000638 ,\n",
       "       -0.11768509, -0.19006457,  0.46589394, -0.23662819,  1.48329805,\n",
       "       -1.16463891,  1.48798141,  0.37525492, -1.87040482, -0.14066921,\n",
       "        1.03792426, -0.99155229,  0.37680135,  0.13291095,  0.91713148,\n",
       "       -0.03804919, -0.32127504,  0.20585778, -0.98691817,  0.18027235,\n",
       "        0.78720806, -0.68120745, -0.04160298, -0.04096235, -1.13724414,\n",
       "       -0.61891894,  0.02967927,  0.73517734, -2.08263257, -0.58439375,\n",
       "       -0.84110135, -0.57882345, -1.83984585,  0.04366426,  0.87917801,\n",
       "       -1.36489782, -0.49336706, -0.77908227, -0.46698915,  0.12165172,\n",
       "       -1.23862299,  1.14008771, -0.86700379, -0.74615459,  0.07622079,\n",
       "       -1.89844252, -0.94175856, -1.19474577,  0.54751161, -1.08147724,\n",
       "       -0.60187997,  0.52542331,  0.0240908 ,  0.0251827 ,  0.92365796,\n",
       "       -0.08422325, -0.75273372,  0.384045  ,  0.91119231,  0.3384878 ,\n",
       "       -0.76517088, -0.75922938,  0.7940809 ,  2.11632524,  1.45289291,\n",
       "       -1.46372919, -0.04387336,  1.29570234,  1.94077451, -0.96406451,\n",
       "       -0.06257289,  0.26469052, -0.07189278, -0.29393783,  1.35157818,\n",
       "       -1.03570544, -0.36523728, -1.4321181 , -0.66052561,  0.27979392,\n",
       "       -2.19734773, -0.20118872,  0.10425654, -0.03808584, -0.36925245,\n",
       "       -0.24758802,  0.53779881,  0.36595241,  1.4918535 , -2.17376026,\n",
       "        0.33035388,  1.55299979,  0.04030456,  0.30851712,  0.77221618,\n",
       "        0.98038274, -0.07623959, -0.75790903, -1.02636982, -1.03875453,\n",
       "        0.79084196,  0.08870632,  0.01246703, -1.20323003,  0.95420237,\n",
       "       -1.16354097, -1.40426758, -0.53574501, -0.82006603, -0.27318523,\n",
       "       -0.10504051, -2.2004174 , -0.59359723, -1.53753316, -0.1265253 ,\n",
       "       -2.07686701,  1.47235975, -0.28388482,  0.67113742,  0.67754679,\n",
       "        0.02832961, -1.37722499,  0.67659402,  1.05068272, -0.54203167,\n",
       "       -0.99537282,  0.46392053, -0.50534992,  1.1138505 ,  1.51001462,\n",
       "        0.54856202, -2.03659895,  0.21884235,  1.07549063, -0.06287757,\n",
       "        0.2496414 ,  0.68346452,  0.22575037, -0.71533607, -0.87783899,\n",
       "        0.01111368, -0.40286574, -0.51472038,  0.99675161,  0.47529806,\n",
       "       -0.40961076,  0.38002332,  0.01838857,  0.70280339,  3.65891518,\n",
       "       -1.27784286, -0.52872086,  1.70172083, -0.13592269, -0.17980513,\n",
       "        0.4566383 ,  0.54803274, -0.2250991 ,  0.6587713 ,  1.0849157 ])"
      ]
     },
     "execution_count": 62,
     "metadata": {},
     "output_type": "execute_result"
    },
    {
     "data": {
      "image/png": "[encoded data removed]",
      "text/plain": [
       "<Figure size 432x288 with 1 Axes>"
      ]
     },
     "metadata": {},
     "output_type": "display_data"
    }
   ],
   "source": [
    "t=np.random.normal(0,1,1000)\n",
    "plt.plot(t)\n",
    "t"
   ]
  },
  {
   "cell_type": "markdown",
   "metadata": {},
   "source": [
    "## Question 11\n",
    "\n",
    "Generate binomial distribution data for fair coin flipping of size 100. Assume `0` for head and `1` for tail.\n",
    "\n",
    "[ **Hint:** For fair coin flip `p=0.5` ]"
   ]
  },
  {
   "cell_type": "markdown",
   "metadata": {},
   "source": [
    "#### Binomial Distribution"
   ]
  },
  {
   "cell_type": "markdown",
   "metadata": {},
   "source": [
    "It is defined by 2 parameters: the probability of success and the number of trails. It tells about how likely it is possible to get a given number of successes in n trails."
   ]
  },
  {
   "cell_type": "code",
   "execution_count": 66,
   "metadata": {},
   "outputs": [],
   "source": [
    "n=100\n",
    "p=0.5\n"
   ]
  },
  {
   "cell_type": "code",
   "execution_count": 67,
   "metadata": {},
   "outputs": [],
   "source": [
    "k=np.arange(0,100)"
   ]
  },
  {
   "cell_type": "code",
   "execution_count": 69,
   "metadata": {},
   "outputs": [
    {
     "data": {
      "text/plain": [
       "array([7.88860905e-31, 7.88860905e-29, 3.90486148e-27, 1.27558808e-25,\n",
       "       3.09330110e-24, 5.93913812e-23, 9.40363535e-22, 1.26277389e-20,\n",
       "       1.46797465e-19, 1.50059631e-18, 1.36554264e-17, 1.11726216e-16,\n",
       "       8.28636101e-16, 5.60922899e-15, 3.48573516e-14, 1.99848816e-13,\n",
       "       1.06169683e-12, 5.24603142e-12, 2.41900338e-11, 1.04399093e-10,\n",
       "       4.22816327e-10, 1.61072886e-09, 5.78398092e-09, 1.96152396e-08,\n",
       "       6.29322272e-08, 1.91313971e-07, 5.51867223e-07, 1.51252498e-06,\n",
       "       3.94336870e-06, 9.79043264e-06, 2.31706906e-05, 5.23209142e-05,\n",
       "       1.12816971e-04, 2.32471335e-04, 4.58105277e-04, 8.63855666e-04,\n",
       "       1.55973940e-03, 2.69792760e-03, 4.47287998e-03, 7.11073227e-03,\n",
       "       1.08438667e-02, 1.58690732e-02, 2.22922695e-02, 3.00686426e-02,\n",
       "       3.89525598e-02, 4.84742966e-02, 5.79583981e-02, 6.65905000e-02,\n",
       "       7.35270104e-02, 7.80286641e-02, 7.95892374e-02, 7.80286641e-02,\n",
       "       7.35270104e-02, 6.65905000e-02, 5.79583981e-02, 4.84742966e-02,\n",
       "       3.89525598e-02, 3.00686426e-02, 2.22922695e-02, 1.58690732e-02,\n",
       "       1.08438667e-02, 7.11073227e-03, 4.47287998e-03, 2.69792760e-03,\n",
       "       1.55973940e-03, 8.63855666e-04, 4.58105277e-04, 2.32471335e-04,\n",
       "       1.12816971e-04, 5.23209142e-05, 2.31706906e-05, 9.79043264e-06,\n",
       "       3.94336870e-06, 1.51252498e-06, 5.51867223e-07, 1.91313971e-07,\n",
       "       6.29322272e-08, 1.96152396e-08, 5.78398092e-09, 1.61072886e-09,\n",
       "       4.22816327e-10, 1.04399093e-10, 2.41900338e-11, 5.24603142e-12,\n",
       "       1.06169683e-12, 1.99848816e-13, 3.48573516e-14, 5.60922899e-15,\n",
       "       8.28636101e-16, 1.11726216e-16, 1.36554264e-17, 1.50059631e-18,\n",
       "       1.46797465e-19, 1.26277389e-20, 9.40363535e-22, 5.93913812e-23,\n",
       "       3.09330110e-24, 1.27558808e-25, 3.90486148e-27, 7.88860905e-29])"
      ]
     },
     "execution_count": 69,
     "metadata": {},
     "output_type": "execute_result"
    }
   ],
   "source": [
    "binomial = stats.binom.pmf(k,n,p)\n",
    "binomial"
   ]
  },
  {
   "cell_type": "code",
   "execution_count": 70,
   "metadata": {},
   "outputs": [
    {
     "data": {
      "image/png": "[encoded data removed]",
      "text/plain": [
       "<Figure size 432x288 with 1 Axes>"
      ]
     },
     "metadata": {},
     "output_type": "display_data"
    }
   ],
   "source": [
    "plt.plot(k,binomial,'o-')\n",
    "plt.title('Binomial: n=%i , p=%.2f' % (n,p), fontsize=15)\n",
    "plt.xlabel('Number of Successes')\n",
    "plt.ylabel('Probability of Successes')\n",
    "plt.show()"
   ]
  },
  {
   "cell_type": "markdown",
   "metadata": {},
   "source": [
    "#### Visualizing Poisson Distribution"
   ]
  },
  {
   "cell_type": "markdown",
   "metadata": {},
   "source": [
    "It models the probability of seeing certain number of successes within a time interval."
   ]
  },
  {
   "cell_type": "code",
   "execution_count": 71,
   "metadata": {},
   "outputs": [
    {
     "data": {
      "image/png": "[encoded data removed]",
      "text/plain": [
       "<Figure size 432x288 with 1 Axes>"
      ]
     },
     "metadata": {},
     "output_type": "display_data"
    }
   ],
   "source": [
    "poisson_data = stats.poisson.rvs(size=100,mu=10)\n",
    "\n",
    "pd.DataFrame(poisson_data).hist()\n",
    "\n",
    "plt.show()"
   ]
  },
  {
   "cell_type": "code",
   "execution_count": null,
   "metadata": {},
   "outputs": [],
   "source": []
  }
 ],
 "metadata": {
  "kernelspec": {
   "display_name": "Python 3",
   "language": "python",
   "name": "python3"
  },
  "language_info": {
   "codemirror_mode": {
    "name": "ipython",
    "version": 3
   },
   "file_extension": ".py",
   "mimetype": "text/x-python",
   "name": "python",
   "nbconvert_exporter": "python",
   "pygments_lexer": "ipython3",
   "version": "3.6.5"
  }
 },
 "nbformat": 4,
 "nbformat_minor": 2
}
